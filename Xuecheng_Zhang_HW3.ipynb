{
 "cells": [
  {
   "cell_type": "code",
   "execution_count": null,
   "metadata": {},
   "outputs": [],
   "source": [
    "import  numpy  as np\n",
    "import  matplotlib.pyplot  as plt\n",
    "from pygam import LogisticGAM ## LogisticGAM is for classification.\n",
    "\n",
    "\n",
    "\n",
    "def  generate_data(n, p):\n",
    "    #n1 is the data size for Y=1\n",
    "    n_1 = np.random.binomial(n,0.5)\n",
    "    #n0 is the daa size for Y=0\n",
    "    n_0 = n-n_1\n",
    "    #set the x1 and x0 \n",
    "    x_1=np.zeros((n_1,p))\n",
    "    x_0=np.zeros((n_0,p))\n",
    "    #case 1\n",
    "    for i in range (p):\n",
    "        if (i+1)%2==0:\n",
    "            x_1[:,i]=np.random.standard_t(1,n_1)+2\n",
    "        else:\n",
    "            x_1[:,i]=np.random.exponential(1,n_1)\n",
    "    #case 2\n",
    "    for i in range (p):\n",
    "        if (i+1)%2==0:\n",
    "            x_0[:,i]=np.random.standard_t(1,n_0)\n",
    "        else:\n",
    "            x_0[:,i]=np.random.exponential(1/3,n_0)\n",
    "    #merge x1,x0\n",
    "    X=np.vstack((x_1,x_0))\n",
    "    Y=np.repeat([1,0],(n_1,n_0))\n",
    "    return X,Y\n",
    "    #define an empty list for error term\n",
    "def simulation(No_T,n,p,box_plot=True):\n",
    "    err=[]\n",
    "    for i in range (No_T):\n",
    "    #generate the test data\n",
    "        X_train,Y_train=generate_data(n,p)\n",
    "        X_test,Y_test= generate_data(n,p)\n",
    "        \n",
    "        logit_gam = LogisticGAM()\n",
    "        logit_gam.gridsearch(X_train,Y_train)\n",
    "        \n",
    "        #calculate test error\n",
    "        test_err=sum(logit_gam.predict(X_test)!=Y_test)/n\n",
    "        err.append(test_err)\n",
    "    if box_plot:\n",
    "        plt.figure(num=None,figsize=(8,6),dpi=80)\n",
    "        plt.boxplot(err)\n",
    "        plt.text(1.1,0.15,\"Mean:{:.2f}\".format(np.mean(err)))\n",
    "        plt.text(1.1,0.14,\"Var:{:.3f}\".format(np.var(err)))\n",
    "        plt.title(\"logisticGAM\")\n",
    "        plt.ylabel(\"Test Error\")\n",
    "        plt.show()\n",
    "simulation(100,100,10)\n",
    "simulation(100,100,30)\n",
    "        "
   ]
  }
 ],
 "metadata": {
  "kernelspec": {
   "display_name": "Python 3",
   "language": "python",
   "name": "python3"
  },
  "language_info": {
   "codemirror_mode": {
    "name": "ipython",
    "version": 3
   },
   "file_extension": ".py",
   "mimetype": "text/x-python",
   "name": "python",
   "nbconvert_exporter": "python",
   "pygments_lexer": "ipython3",
   "version": "3.7.4"
  }
 },
 "nbformat": 4,
 "nbformat_minor": 2
}
