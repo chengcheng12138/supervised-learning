{
 "cells": [
  {
   "cell_type": "markdown",
   "metadata": {},
   "source": [
    "# HW 2\n",
    "Xuecheng Zhang(915942842)\n",
    "\n",
    "group study:Yuhong Fang, Zhongrui Wang, Yiqi Ren, Xiaopeng Lan\n",
    "\n",
    "# Question 1\n",
    "### Part a"
   ]
  },
  {
   "cell_type": "markdown",
   "metadata": {},
   "source": [
    "A generative model learns the joint probability distribution p(x,y) while a discriminative model learns the conditional probability distribution p(y|x) “probability of y given x”. SO it is a discriminative approach."
   ]
  },
  {
   "cell_type": "markdown",
   "metadata": {},
   "source": [
    "### Part b\n",
    "Find the $\\beta$ of the MLE:\n",
    "$$p(Y=k|X=x)=\\frac{(\\beta X)^k}{k!}e^{-\\beta X}$$\n",
    "next$$L(\\beta)=\\prod_{i=1}^{n}P_{(y_i|x_i)}P_{(x_i)}$$\n",
    "so$$l(\\beta)=lnL(\\beta)=\\sum_{i=1}^{n}ln[P_\\beta(y_i|x_i)]+\\sum_{i=1}^{n}P_\\beta(x_i)=nln(\\beta)+nln(t)-\\beta t-ln(n!)$$ $$\\text{where }n=\\sum_{k=0}^{n}y_k,  t = \\sum_{i=0}^{n}x_i$$\n",
    "$$\\frac{d}{d\\beta}[nln(\\beta)+nln(t)-\\beta t-ln(n!)]=0$$\n",
    "$$\\frac{n}{\\beta}-t=0\\rightarrow \\beta=\\frac{n}{t}$$\n",
    "Given n training samples $(x_1,y_1),...,(x_n,y_n)$, the parameter $\\beta=\\frac{n}{t}$ via MLE.\n"
   ]
  },
  {
   "cell_type": "markdown",
   "metadata": {},
   "source": [
    "### part c\n",
    "Given a new sample x, since we already have the parameter $\\beta$ so we put the new sample x in $$p(Y=k|X=x)=\\frac{(\\frac{n}{t} X)^k}{k!}e^{-\\frac{n}{t} X}$$"
   ]
  },
  {
   "cell_type": "markdown",
   "metadata": {},
   "source": [
    "# Question 2\n",
    "### part a"
   ]
  },
  {
   "cell_type": "code",
   "execution_count": 3,
   "metadata": {},
   "outputs": [],
   "source": [
    "import numpy as np\n",
    "import pandas as pd\n",
    "import matplotlib.pyplot as plt\n",
    "import sklearn.linear_model as skl_lm\n",
    "from sklearn.discriminant_analysis import LinearDiscriminantAnalysis\n",
    "import matplotlib.pyplot\n",
    "from sklearn import svm\n"
   ]
  },
  {
   "cell_type": "code",
   "execution_count": 4,
   "metadata": {},
   "outputs": [
    {
     "name": "stdout",
     "output_type": "stream",
     "text": [
      "The mean of test error is LDA    49.62\n",
      "LR     48.43\n",
      "dtype: float64\n",
      "The variance of test error is LDA    49.62\n",
      "LR     48.43\n",
      "dtype: float64\n"
     ]
    },
    {
     "data": {
      "image/png": "[encoded data removed]",
      "text/plain": [
       "<Figure size 432x288 with 1 Axes>"
      ]
     },
     "metadata": {
      "needs_background": "light"
     },
     "output_type": "display_data"
    }
   ],
   "source": [
    "np.random.RandomState(1) # Set the random seed\n",
    "def generata_data(n,p):\n",
    "    n1=np.random.binomial(n,0.5)\n",
    "    n2=100-n1\n",
    "    x1=np.random.standard_t(1,n1)+p\n",
    "    x2=np.random.standard_t(1,n2)\n",
    "    y1=np.repeat(1,n1)\n",
    "    y2=np.repeat(-1,n2)\n",
    "    x=np.concatenate((x1,x2))# put x1 and x2 in same x\n",
    "    y=np.concatenate((y1,y2))# put y1 and y2 in same y\n",
    "    x=x.reshape(-1,1)#reshape x from 2D to 1D\n",
    "    return x,y\n",
    "err1=[]#define an empty list for LDA\n",
    "err2=[]#define an empty list for logistic regression\n",
    "lr = skl_lm.LogisticRegression(solver='newton-cg')\n",
    "lda = LinearDiscriminantAnalysis(solver='svd')\n",
    "for i in range(100):\n",
    "    X_train,Y_train = generata_data(100,1)\n",
    "    X_test,Y_test = generata_data(100,1)\n",
    "    #LDA\n",
    "    lda.fit(X_train,Y_train)#use training data to fit the lda model\n",
    "    test_error1=sum(lda.predict(X_test)!=Y_test)#get the test error\n",
    "    err1.append(test_error1)#put the test error in err1 list\n",
    "    #logistic regression\n",
    "    lr.fit(X_train,Y_train)#use the training dara to fit the logsitic regression model\n",
    "    test_error2=sum(lr.predict(X_test)!=Y_test)#get the test error\n",
    "    err2.append(test_error2)#put the test error in err2 list\n",
    "df= {'LDA':err1, 'LR':err2}\n",
    "df = pd.DataFrame(data=df)#save them in data frame\n",
    "#find the mean and variance\n",
    "mean = df.mean()\n",
    "var = df.var()\n",
    "print(\"The mean of test error is\",mean)\n",
    "print(\"The variance of test error is\",mean)\n",
    "box_plot = df.plot.box()\n"
   ]
  },
  {
   "cell_type": "markdown",
   "metadata": {},
   "source": [
    "### part b"
   ]
  },
  {
   "cell_type": "code",
   "execution_count": 5,
   "metadata": {},
   "outputs": [
    {
     "name": "stdout",
     "output_type": "stream",
     "text": [
      "The mean of test error is LDA    46.42\n",
      "LR     44.18\n",
      "dtype: float64\n",
      "The variance of test error is LDA    46.42\n",
      "LR     44.18\n",
      "dtype: float64\n"
     ]
    },
    {
     "data": {
      "image/png": "[encoded data removed]",
      "text/plain": [
       "<Figure size 432x288 with 1 Axes>"
      ]
     },
     "metadata": {
      "needs_background": "light"
     },
     "output_type": "display_data"
    }
   ],
   "source": [
    "np.random.RandomState(1) # Set the random seed\n",
    "def generata_data(n,p):\n",
    "    n1=np.random.binomial(n,0.5)\n",
    "    n2=100-n1\n",
    "    x1=np.random.standard_t(1,n1)+p\n",
    "    x2=np.random.standard_t(1,n2)\n",
    "    y1=np.repeat(1,n1)\n",
    "    y2=np.repeat(-1,n2)\n",
    "    x=np.concatenate((x1,x2))# put x1 and x2 in same x\n",
    "    y=np.concatenate((y1,y2))# put y1 and y2 in same y\n",
    "    x=x.reshape(-1,1)#reshape x from 2D to 1D\n",
    "    return x,y\n",
    "err1=[]#define an empty list for LDA\n",
    "err2=[]#define an empty list for logistic regression\n",
    "lr = skl_lm.LogisticRegression(solver='newton-cg')\n",
    "lda = LinearDiscriminantAnalysis(solver='svd')\n",
    "for i in range(100):\n",
    "    X_train,Y_train = generata_data(100,2)\n",
    "    X_test,Y_test = generata_data(100,2)\n",
    "    #LDA\n",
    "    lda.fit(X_train,Y_train)#use training data to fit the lda model\n",
    "    test_error1=sum(lda.predict(X_test)!=Y_test)#get the test error\n",
    "    err1.append(test_error1)#put the test error in err1 list\n",
    "    #logistic regression\n",
    "    lr.fit(X_train,Y_train)#use the training dara to fit the logsitic regression model\n",
    "    test_error2=sum(lr.predict(X_test)!=Y_test)#get the test error\n",
    "    err2.append(test_error2)#put the test error in err2 list\n",
    "df= {'LDA':err1, 'LR':err2}\n",
    "df = pd.DataFrame(data=df)#save them in data frame\n",
    "#find the mean and variance\n",
    "mean = df.mean()\n",
    "var = df.var()\n",
    "print(\"The mean of test error is\",mean)\n",
    "print(\"The variance of test error is\",mean)\n",
    "box_plot = df.plot.box()"
   ]
  },
  {
   "cell_type": "code",
   "execution_count": 6,
   "metadata": {},
   "outputs": [
    {
     "name": "stdout",
     "output_type": "stream",
     "text": [
      "The mean of test error is LDA    44.37\n",
      "LR     37.28\n",
      "dtype: float64\n",
      "The variance of test error is LDA    44.37\n",
      "LR     37.28\n",
      "dtype: float64\n"
     ]
    },
    {
     "data": {
      "image/png": "[encoded data removed]",
      "text/plain": [
       "<Figure size 432x288 with 1 Axes>"
      ]
     },
     "metadata": {
      "needs_background": "light"
     },
     "output_type": "display_data"
    }
   ],
   "source": [
    "np.random.RandomState(1) # Set the random seed\n",
    "def generata_data(n,p):\n",
    "    n1=np.random.binomial(n,0.5)\n",
    "    n2=100-n1\n",
    "    x1=np.random.standard_t(1,n1)+p\n",
    "    x2=np.random.standard_t(1,n2)\n",
    "    y1=np.repeat(1,n1)\n",
    "    y2=np.repeat(-1,n2)\n",
    "    x=np.concatenate((x1,x2))# put x1 and x2 in same x\n",
    "    y=np.concatenate((y1,y2))# put y1 and y2 in same y\n",
    "    x=x.reshape(-1,1)#reshape x from 2D to 1D\n",
    "    return x,y\n",
    "err1=[]#define an empty list for LDA\n",
    "err2=[]#define an empty list for logistic regression\n",
    "lr = skl_lm.LogisticRegression(solver='newton-cg')\n",
    "lda = LinearDiscriminantAnalysis(solver='svd')\n",
    "for i in range(100):\n",
    "    X_train,Y_train = generata_data(100,3)\n",
    "    X_test,Y_test = generata_data(100,3)\n",
    "    #LDA\n",
    "    lda.fit(X_train,Y_train)#use training data to fit the lda model\n",
    "    test_error1=sum(lda.predict(X_test)!=Y_test)#get the test error\n",
    "    err1.append(test_error1)#put the test error in err1 list\n",
    "    #logistic regression\n",
    "    lr.fit(X_train,Y_train)#use the training dara to fit the logsitic regression model\n",
    "    test_error2=sum(lr.predict(X_test)!=Y_test)#get the test error\n",
    "    err2.append(test_error2)#put the test error in err2 list\n",
    "df= {'LDA':err1, 'LR':err2}\n",
    "df = pd.DataFrame(data=df)#save them in data frame\n",
    "#find the mean and variance\n",
    "mean = df.mean()\n",
    "var = df.var()\n",
    "print(\"The mean of test error is\",mean)\n",
    "print(\"The variance of test error is\",mean)\n",
    "box_plot = df.plot.box()"
   ]
  },
  {
   "cell_type": "markdown",
   "metadata": {},
   "source": [
    "# Question 3\n",
    "### part a\n",
    "In this question my code based on stackoverflow and scikittlearn.\n",
    "\n",
    "https://scikit-learn.org/stable/auto_examples/svm/plot_svm_margin.html\n",
    "https://scikit-learn.org/stable/auto_examples/svm/plot_separating_hyperplane.html#sphx-glr-auto-examples-svm-plot-separating-hyperplane-py"
   ]
  },
  {
   "cell_type": "code",
   "execution_count": 7,
   "metadata": {},
   "outputs": [],
   "source": [
    "import numpy as np\n",
    "from matplotlib import pyplot as plt\n",
    "import matplotlib.pyplot\n",
    "import matplotlib.lines as mlines"
   ]
  },
  {
   "cell_type": "code",
   "execution_count": 8,
   "metadata": {},
   "outputs": [
    {
     "data": {
      "text/plain": [
       "<matplotlib.collections.PathCollection at 0x1a25d072d0>"
      ]
     },
     "execution_count": 8,
     "metadata": {},
     "output_type": "execute_result"
    },
    {
     "data": {
      "image/png": "[encoded data removed]",
      "text/plain": [
       "<Figure size 432x288 with 1 Axes>"
      ]
     },
     "metadata": {
      "needs_background": "light"
     },
     "output_type": "display_data"
    }
   ],
   "source": [
    "vector_x1 = np.array([3, 2, 4, 1, 2, 4, 4]);\n",
    "vector_x2 = np.array([4, 2, 4, 4, 1, 3, 1]);\n",
    "matplotlib.pyplot.scatter(vector_x1,vector_x2,color=[\"r\", \"r\", \"r\", \"r\", \"b\", \"b\", \"b\"])\n"
   ]
  },
  {
   "cell_type": "markdown",
   "metadata": {},
   "source": [
    "### part b"
   ]
  },
  {
   "cell_type": "code",
   "execution_count": 11,
   "metadata": {},
   "outputs": [
    {
     "data": {
      "text/plain": [
       "[<matplotlib.lines.Line2D at 0x1a25dffcd0>]"
      ]
     },
     "execution_count": 11,
     "metadata": {},
     "output_type": "execute_result"
    },
    {
     "data": {
      "image/png": "[encoded data removed]",
      "text/plain": [
       "<Figure size 432x288 with 1 Axes>"
      ]
     },
     "metadata": {
      "needs_background": "light"
     },
     "output_type": "display_data"
    }
   ],
   "source": [
    "X = np.vstack((vector_x1,vector_x2)).T#add vector_x1 and vector_x2 as column vector\n",
    "Y = np.array([1]*4 + [0]*3)#\"1\" is red, and repect 4 times,\"0\"is blue which repect 3 times\n",
    "clf = svm.SVC(kernel='linear',C=9999)#since optimal separating hyperplane, so we set Regularization parameter become a big number\n",
    "clf.fit(X, Y)#fir X and Y in clf model\n",
    "w = clf.coef_[0]# get the coefficients\n",
    "a = -w[0] / w[1]# find the slope by negative beta1 divided beta 2\n",
    "xx = np.linspace(-1, 5)\n",
    "yy = a * xx - (clf.intercept_[0]) / w[1]#create a relationship\n",
    "matplotlib.pyplot.scatter(vector_x1,vector_x2,color=[\"r\", \"r\", \"r\", \"r\", \"b\", \"b\", \"b\"])\n",
    "plt.plot(xx, yy, 'k-')"
   ]
  },
  {
   "cell_type": "markdown",
   "metadata": {},
   "source": [
    "### part c\n",
    "The $$\\beta_1=-0.61538462, \\beta_2=1.07692308,\\beta_0=-0.8461538461538456$$\n",
    "if $-0.8461538461538456-0.61538462X_1+1.07692308X_2>0$ is red, otherwise it will be blue\n"
   ]
  },
  {
   "cell_type": "markdown",
   "metadata": {},
   "source": [
    "### part d"
   ]
  },
  {
   "cell_type": "code",
   "execution_count": 12,
   "metadata": {},
   "outputs": [
    {
     "data": {
      "image/png": "[encoded data removed]",
      "text/plain": [
       "<Figure size 432x288 with 1 Axes>"
      ]
     },
     "metadata": {
      "needs_background": "light"
     },
     "output_type": "display_data"
    }
   ],
   "source": [
    "# plot the line, the points, and the nearest vectors to the plane\n",
    "X = np.vstack((vector_x1,vector_x2)).T#add vector_x1 and vector_x2 as column vector\n",
    "Y = np.array([1]*4 + [0]*3)#\"1\" is red, and repect 4 times,\"0\"is blue which repect 3 times\n",
    "clf = svm.SVC(kernel='linear',C=9999)#since optimal separating hyperplane, so we set Regularization parameter become a big number\n",
    "clf.fit(X, Y)#fir X and Y in clf model\n",
    "w = clf.coef_[0]# get the coefficients\n",
    "a = -w[0] / w[1]# find the slope by negative beta1 divided beta 2\n",
    "xx = np.linspace(-1, 5)\n",
    "yy = a * xx - (clf.intercept_[0]) / w[1]#create a relationship\n",
    "matplotlib.pyplot.scatter(vector_x1,vector_x2,color=[\"r\", \"r\", \"r\", \"r\", \"b\", \"b\", \"b\"])\n",
    "# plot the decision function\n",
    "ax = plt.gca()\n",
    "xlim = ax.get_xlim()#the decision function of x\n",
    "ylim = ax.get_ylim()#the decision function of y\n",
    "\n",
    "# create grid to evaluate model\n",
    "xx = np.linspace(xlim[0], xlim[1], 30)\n",
    "yy = np.linspace(ylim[0], ylim[1], 30)\n",
    "YY, XX = np.meshgrid(yy, xx)\n",
    "xy = np.vstack([XX.ravel(), YY.ravel()]).T#add XX.ravel() and YY.ravel()as column vector\n",
    "Z = clf.decision_function(xy).reshape(XX.shape)\n",
    "ax.contour(XX, YY, Z, colors='k', levels=[-1, 0, 1], alpha=0.5,\n",
    "           linestyles=['--', '-', '--'])# plot decision boundary and margins\n",
    "ax.scatter(clf.support_vectors_[:, 0], clf.support_vectors_[:, 1], s=100,\n",
    "           linewidth=1, facecolors='none', edgecolors='k')\n",
    "plt.show()# plot support vectors\n"
   ]
  },
  {
   "cell_type": "markdown",
   "metadata": {},
   "source": [
    "### part e\n",
    "From part d), the plot shows that the support vectors are the points (2,1), (2,2), (4,3) and (4,4)."
   ]
  },
  {
   "cell_type": "markdown",
   "metadata": {},
   "source": [
    "### part f\n",
    "Since (4,1),(1,4),(3,4)are not the support vectors, so if we moved those observations, we would not change the maximal margin hyperplane."
   ]
  },
  {
   "cell_type": "markdown",
   "metadata": {},
   "source": [
    "### part g"
   ]
  },
  {
   "cell_type": "code",
   "execution_count": 13,
   "metadata": {},
   "outputs": [
    {
     "data": {
      "image/png": "[encoded data removed]",
      "text/plain": [
       "<Figure size 432x288 with 1 Axes>"
      ]
     },
     "metadata": {
      "needs_background": "light"
     },
     "output_type": "display_data"
    }
   ],
   "source": [
    "# plot the line, the points, and the nearest vectors to the plane\n",
    "X = np.vstack((vector_x1,vector_x2)).T#add vector_x1 and vector_x2 as column vector\n",
    "Y = np.array([1]*4 + [0]*3)#\"1\" is red, and repect 4 times,\"0\"is blue which repect 3 times\n",
    "clf = svm.SVC(kernel='linear')#since not optimal separating hyperplane, so we do not set Regularization parameter \n",
    "clf.fit(X, Y)#fir X and Y in clf model\n",
    "w = clf.coef_[0]# get the coefficients\n",
    "a = -w[0] / w[1]# find the slope by negative beta1 divided beta 2\n",
    "xx = np.linspace(-1, 5)\n",
    "yy = a * xx - (clf.intercept_[0]) / w[1]#create a relationship\n",
    "matplotlib.pyplot.scatter(vector_x1,vector_x2,color=[\"r\", \"r\", \"r\", \"r\", \"b\", \"b\", \"b\"])\n",
    "# plot the decision function\n",
    "ax = plt.gca()\n",
    "xlim = ax.get_xlim()#the decision function of x\n",
    "ylim = ax.get_ylim()#the decision function of y\n",
    "\n",
    "# create grid to evaluate model\n",
    "xx = np.linspace(xlim[0], xlim[1], 30)\n",
    "yy = np.linspace(ylim[0], ylim[1], 30)\n",
    "YY, XX = np.meshgrid(yy, xx)\n",
    "xy = np.vstack([XX.ravel(), YY.ravel()]).T#add XX.ravel() and YY.ravel()as column vector\n",
    "Z = clf.decision_function(xy).reshape(XX.shape)\n",
    "ax.contour(XX, YY, Z, colors='k', levels=[-1, 0, 1], alpha=0.5,\n",
    "           linestyles=['--', '-', '--'])# plot decision boundary and margins\n",
    "ax.scatter(clf.support_vectors_[:, 0], clf.support_vectors_[:, 1], s=100,\n",
    "           linewidth=1, facecolors='none', edgecolors='k')\n",
    "plt.show()# plot support vectors"
   ]
  },
  {
   "cell_type": "markdown",
   "metadata": {},
   "source": [
    "### part h"
   ]
  },
  {
   "cell_type": "code",
   "execution_count": 53,
   "metadata": {},
   "outputs": [
    {
     "data": {
      "text/plain": [
       "<matplotlib.collections.PathCollection at 0x1a25620c50>"
      ]
     },
     "execution_count": 53,
     "metadata": {},
     "output_type": "execute_result"
    },
    {
     "data": {
      "image/png": "[encoded data removed]",
      "text/plain": [
       "<Figure size 432x288 with 1 Axes>"
      ]
     },
     "metadata": {
      "needs_background": "light"
     },
     "output_type": "display_data"
    }
   ],
   "source": [
    "matplotlib.pyplot.scatter(vector_x1,vector_x2,color=[\"r\", \"r\", \"r\", \"r\", \"b\", \"b\", \"b\"])\n",
    "plt.plot(xx, yy, 'k-')\n",
    "plt.scatter(1.2,3.9,color=\"b\")#this number should be red, but I set it to be blue"
   ]
  },
  {
   "cell_type": "markdown",
   "metadata": {},
   "source": [
    "(1.2,3.9) this point should be red, but I set it to be blue, so the two classes are no longer separable by a hyperplane."
   ]
  }
 ],
 "metadata": {
  "kernelspec": {
   "display_name": "Python 3",
   "language": "python",
   "name": "python3"
  },
  "language_info": {
   "codemirror_mode": {
    "name": "ipython",
    "version": 3
   },
   "file_extension": ".py",
   "mimetype": "text/x-python",
   "name": "python",
   "nbconvert_exporter": "python",
   "pygments_lexer": "ipython3",
   "version": "3.7.4"
  }
 },
 "nbformat": 4,
 "nbformat_minor": 2
}
